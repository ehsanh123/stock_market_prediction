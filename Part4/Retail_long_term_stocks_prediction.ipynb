{
 "cells": [
  {
   "cell_type": "code",
   "execution_count": null,
   "id": "ae3c2bad",
   "metadata": {},
   "outputs": [],
   "source": [
    "#hi\n",
    "Retail_stocks = {\n",
    "    \"Walmart\": {       },\n",
    "    \"Target\": {        },\n",
    "    \"Costco\": {        },\n",
    "    \"Best Buy\": {      },\n",
    "}"
   ]
  }
 ],
 "metadata": {
  "language_info": {
   "name": "python"
  }
 },
 "nbformat": 4,
 "nbformat_minor": 5
}
