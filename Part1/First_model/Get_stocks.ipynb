{
  "nbformat": 4,
  "nbformat_minor": 0,
  "metadata": {
    "colab": {
      "provenance": []
    },
    "kernelspec": {
      "name": "python3",
      "display_name": "Python 3"
    },
    "language_info": {
      "name": "python"
    }
  },
  "cells": [
    {
      "cell_type": "markdown",
      "source": [
        "#getting stock values for FSTE 100"
      ],
      "metadata": {
        "id": "zW8do_bpiu5B"
      }
    },
    {
      "cell_type": "code",
      "execution_count": 1,
      "metadata": {
        "id": "VvLkitkhZhQX"
      },
      "outputs": [],
      "source": [
        "#test 1\n",
        "import yfinance as yf\n",
        "\n",
        "ticker = yf.Ticker(\"LLOY.L\")  # Example: Lloyds Banking Group ('.L' is UK suffix)\n",
        "# df = ticker.history(period=\"5y\")  # Adjust as needed\n",
        "df = ticker.history(start=\"2020-01-01\")  # Specify start date\n",
        "df.to_csv(\"lloyds_stock_data.csv\")\n"
      ]
    },
    {
      "cell_type": "markdown",
      "source": [
        "#gettting the codes"
      ],
      "metadata": {
        "id": "_RG2QOf8i1l5"
      }
    },
    {
      "cell_type": "code",
      "source": [
        "#taken from London Exchange FSTE 100 list\n",
        "ftse100_tickers = {\n",
        "    \"IAG\", \"MRO\", \"BAB\", \"RTO\", \"SPX\", \"ENT\", \"RKT\", \"BNZL\", \"HSBA\", \"HLN\",\n",
        "    \"SGE\", \"SMT\", \"RR\", \"HLMA\", \"EDV\", \"BA\", \"BARC\", \"SHEL\", \"CPG\", \"FRES\",\n",
        "    \"EXPN\", \"IHG\", \"AAL\", \"EZJ\", \"LSEG\", \"HSX\", \"WPP\", \"ABF\", \"RMV\", \"BTRW\",\n",
        "    \"ANTO\", \"RIO\", \"PSH\", \"AUTO\", \"DPLM\", \"BKG\", \"AZN\", \"GAW\", \"PSN\", \"NWG\",\n",
        "    \"CRDA\", \"AV\", \"FCIT\", \"AHT\", \"MNG\", \"WEIR\", \"REL\", \"AAF\", \"DCC\", \"MNDI\",\n",
        "    \"DGE\", \"STJ\", \"ITRK\", \"TW\", \"ICG\", \"GLEN\", \"SMIN\", \"CCEP\", \"PRU\", \"LGEN\",\n",
        "    \"ULVR\", \"CCH\", \"PCT\", \"INF\", \"III\", \"ALW\", \"PSON\", \"IMI\", \"PHNX\", \"NXT\",\n",
        "    \"HIK\", \"JD\", \"SN\", \"CNA\", \"CTEC\", \"ADM\", \"SGRO\", \"BP\", \"IMB\", \"STAN\",\n",
        "    \"LMP\", \"UTG\", \"BATS\", \"TSCO\", \"LAND\", \"NG\", \"SDR\", \"HWDN\", \"BT-A\", \"MKS\",\n",
        "    \"BEZ\", \"SSE\", \"GSK\", \"LLOY\", \"VOD\", \"KGF\", \"SVT\", \"WTB\", \"UU\", \"SBRY\"\n",
        "}\n",
        "#coding in yahooo finance and LONDON exchange is a bit differtn\n",
        "#in yahoo there is no .\n",
        "#also you need to soacify which market\n",
        "#.L means London"
      ],
      "metadata": {
        "id": "11n6DHeHa6SX"
      },
      "execution_count": 12,
      "outputs": []
    },
    {
      "cell_type": "markdown",
      "source": [
        "#saving The values as CSV"
      ],
      "metadata": {
        "id": "4kV3RTY5jM7h"
      }
    },
    {
      "cell_type": "code",
      "source": [
        "import yfinance as yf\n",
        "\n",
        "# Assuming you have the list of FTSE 100 tickers in a list called 'ftse100_tickers'\n",
        "for ticker_symbol in ftse100_tickers:\n",
        "    try:\n",
        "        ticker = yf.Ticker(ticker_symbol+\".L\")\n",
        "        df = ticker.history(start=\"2020-01-01\") # Adjust start date as needed\n",
        "        df.to_csv(f\"{ticker_symbol}_data.csv\")  # Save data to separate CSV files\n",
        "        # print(f\"Downloaded data for {ticker_symbol}\")\n",
        "    except Exception as e:\n",
        "        print(f\"Error {ticker_symbol}: {e}\")"
      ],
      "metadata": {
        "id": "hgMhh_sPa45p"
      },
      "execution_count": 13,
      "outputs": []
    },
    {
      "cell_type": "code",
      "source": [
        "#storeing them in google drive"
      ],
      "metadata": {
        "id": "G0n64RbAjRui"
      },
      "execution_count": null,
      "outputs": []
    },
    {
      "cell_type": "code",
      "source": [
        "from google.colab import drive\n",
        "drive.mount('/content/drive')\n",
        "import os\n",
        "os.makedirs('/content/drive/MyDrive/FTSE-stock-prediction-/data-csv', exist_ok=True)\n"
      ],
      "metadata": {
        "colab": {
          "base_uri": "https://localhost:8080/"
        },
        "id": "9n0DC9yjf9a5",
        "outputId": "ed84b990-72ab-4ae6-f6ef-bfc423797c03"
      },
      "execution_count": 14,
      "outputs": [
        {
          "output_type": "stream",
          "name": "stdout",
          "text": [
            "\u001b[33mhint: Using 'master' as the name for the initial branch. This default branch name\u001b[m\n",
            "\u001b[33mhint: is subject to change. To configure the initial branch name to use in all\u001b[m\n",
            "\u001b[33mhint: of your new repositories, which will suppress this warning, call:\u001b[m\n",
            "\u001b[33mhint: \u001b[m\n",
            "\u001b[33mhint: \tgit config --global init.defaultBranch <name>\u001b[m\n",
            "\u001b[33mhint: \u001b[m\n",
            "\u001b[33mhint: Names commonly chosen instead of 'master' are 'main', 'trunk' and\u001b[m\n",
            "\u001b[33mhint: 'development'. The just-created branch can be renamed via this command:\u001b[m\n",
            "\u001b[33mhint: \u001b[m\n",
            "\u001b[33mhint: \tgit branch -m <name>\u001b[m\n",
            "Initialized empty Git repository in /content/.git/\n"
          ]
        }
      ]
    },
    {
      "cell_type": "code",
      "source": [
        "import shutil\n",
        "import os\n",
        "\n",
        "source_folder = '/content'  # where your CSVs are\n",
        "target_folder = '/content/drive/MyDrive/FTSE-stock-prediction-/data-csv'\n",
        "\n",
        "for filename in os.listdir(source_folder):\n",
        "    if filename.endswith('.csv'):\n",
        "        shutil.move(os.path.join(source_folder, filename), os.path.join(target_folder, filename))\n"
      ],
      "metadata": {
        "id": "20Drl_niirTi"
      },
      "execution_count": null,
      "outputs": []
    }
  ]
}